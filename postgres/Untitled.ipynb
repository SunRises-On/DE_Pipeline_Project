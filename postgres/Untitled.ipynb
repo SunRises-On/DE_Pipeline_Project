{
 "cells": [
  {
   "cell_type": "code",
   "execution_count": 1,
   "id": "31a35273",
   "metadata": {},
   "outputs": [],
   "source": [
    "#Python imports\n",
    "import datetime\n",
    "# widely used PostgreSQL connector library\n",
    "import psycopg2\n",
    "#pip install psycopg2\n",
    "import random"
   ]
  },
  {
   "cell_type": "code",
   "execution_count": 2,
   "id": "d24bcc78",
   "metadata": {},
   "outputs": [],
   "source": [
    "from restaurant_menu import McDonald_menu, Wingstop_menu, Taco_bell_menu\n"
   ]
  },
  {
   "cell_type": "code",
   "execution_count": 3,
   "id": "64ca56f9",
   "metadata": {},
   "outputs": [],
   "source": [
    "\n",
    "delivery_list = ['pickup', 'delivery']\n",
    "\n",
    "vendor_dict = { 1: McDonald_menu,\n",
    "             2: Wingstop_menu,\n",
    "             3: Taco_bell_menu,\n",
    "    \n",
    "}\n",
    "\n",
    "country_code_iso3 = 'USA'\n",
    "customer_id_list = list(range(1,10001))\n"
   ]
  },
  {
   "cell_type": "code",
   "execution_count": 4,
   "id": "68ebe572",
   "metadata": {},
   "outputs": [],
   "source": [
    "tax_list = [0,.029,.04,.04225,.0445,.045,.0475,.05,.053,.055,.056,.0575,.06,.061,.0625,.0635,.065,.06625,.0685,.06875,.07,.0725]"
   ]
  },
  {
   "cell_type": "code",
   "execution_count": 5,
   "id": "c09ec639",
   "metadata": {},
   "outputs": [],
   "source": [
    "#establish the connection\n",
    "conn = psycopg2.connect(\n",
    "    host=\"localhost\",\n",
    "    port='5432',\n",
    "    database=\"DE\",\n",
    "    user=\"postgres\", \n",
    "    password=\"password\")\n"
   ]
  },
  {
   "cell_type": "code",
   "execution_count": 6,
   "id": "b566f54e",
   "metadata": {},
   "outputs": [],
   "source": [
    "#create a cursor object\n",
    "cursor = conn.cursor()"
   ]
  },
  {
   "cell_type": "code",
   "execution_count": 7,
   "id": "5dd633ce",
   "metadata": {},
   "outputs": [],
   "source": [
    "cursor.execute(\"\"\"SELECT table_name FROM information_schema.tables\n",
    "       WHERE table_schema = 'public'\"\"\")"
   ]
  },
  {
   "cell_type": "code",
   "execution_count": 8,
   "id": "8cee9e0c",
   "metadata": {},
   "outputs": [
    {
     "name": "stdout",
     "output_type": "stream",
     "text": [
      "('user_purchase',)\n"
     ]
    }
   ],
   "source": [
    "#check if table is in database\n",
    "for table in cursor.fetchall():\n",
    "    print(table)"
   ]
  },
  {
   "cell_type": "code",
   "execution_count": 9,
   "id": "9b2f8563",
   "metadata": {},
   "outputs": [],
   "source": [
    "column_names=\"vendor_id, delivery_method, menu_items, invoice_date, tax, total, country_code_iso3, customer_id\""
   ]
  },
  {
   "cell_type": "code",
   "execution_count": 20,
   "id": "da6a5af1",
   "metadata": {},
   "outputs": [],
   "source": [
    "def getMenu(vendor):\n",
    "    return vendor_dict[vendor]\n",
    "        "
   ]
  },
  {
   "cell_type": "code",
   "execution_count": 21,
   "id": "ca2edcb7",
   "metadata": {},
   "outputs": [],
   "source": [
    "def getDictTotal(item_dict):\n",
    "    values_list = item_dict.values()\n",
    "    return sum(values_list)"
   ]
  },
  {
   "cell_type": "code",
   "execution_count": 55,
   "id": "d1f766b7",
   "metadata": {},
   "outputs": [],
   "source": [
    "def checkKey(item_dict, key):\n",
    "    #check if empty\n",
    "    #empty dictionary are false \n",
    "    if (bool(item_dict) == False):\n",
    "        return False\n",
    "    elif key in item_dict.keys():\n",
    "        return True\n",
    "    else:\n",
    "        return False"
   ]
  },
  {
   "cell_type": "code",
   "execution_count": 102,
   "id": "62f18a8a",
   "metadata": {},
   "outputs": [],
   "source": [
    "def addItem(item_dict, menu):\n",
    "    rnum = random.randrange(0,len(menu))\n",
    "    print(\"add Item rnum = \" + str(rnum))\n",
    "    key = list(menu)[rnum]\n",
    "    val = list(menu.values())[rnum]\n",
    "    temp = {key: val}\n",
    "    print(\"temp = \" + str(temp))\n",
    "    #check if key already in item_dict\n",
    "    isDuplicate = checkKey(item_dict, key)\n",
    "    \n",
    "    #if duplicate \n",
    "    if(isDuplicate):\n",
    "        x = item_dict[key]\n",
    "        \n",
    "        #check number of duplicates\n",
    "        count = val%x\n",
    "        #round to nearest integer \n",
    "        count = round(count)\n",
    "        \n",
    "        #example new burger is now\n",
    "        # (1) Double Burger\n",
    "        key = f\"({count}) \" + key\n",
    "        \n",
    "        temp = {key:val}\n",
    "            \n",
    "        item_dict = item_dict.update(temp)\n",
    "    #not duplicate add new key-value pair\n",
    "    else:\n",
    "        item_dict[key]=val\n",
    "        \n",
    "    \n",
    "    return item_dict"
   ]
  },
  {
   "cell_type": "code",
   "execution_count": 103,
   "id": "18053e64",
   "metadata": {},
   "outputs": [],
   "source": [
    "def getItemList(menu, rnum, item_dict ):\n",
    "    item_dict = item_dict\n",
    "    print(rnum)\n",
    "    print(item_dict)\n",
    "    if(rnum > 0):\n",
    "        item_dict = addItem(item_dict, menu)\n",
    "        print(\"getItemList base case\")\n",
    "        print(item_dict)\n",
    "        getItemList(menu, rnum-1, item_dict)\n",
    "    return item_dict"
   ]
  },
  {
   "cell_type": "code",
   "execution_count": 104,
   "id": "8479c399",
   "metadata": {},
   "outputs": [],
   "source": [
    "def print_date(date_obj):\n",
    "    date_format=\"%Y-%m-%d\"\n",
    "    print(date_obj.strftime(date_format))\n"
   ]
  },
  {
   "cell_type": "code",
   "execution_count": 105,
   "id": "21edd375",
   "metadata": {},
   "outputs": [],
   "source": [
    "def increment_date(date_obj):\n",
    "    date_obj += datetime.timedelta(days=1)\n",
    "    return date_obj"
   ]
  },
  {
   "cell_type": "code",
   "execution_count": 106,
   "id": "2b07ccdd",
   "metadata": {},
   "outputs": [
    {
     "name": "stdout",
     "output_type": "stream",
     "text": [
      "2023-05-10\n"
     ]
    }
   ],
   "source": [
    "record_counter = 12000\n",
    "RECORD_NUM = 100\n",
    "date_obj = datetime.datetime(2023, 5, 10)\n",
    "print_date(date_obj)\n"
   ]
  },
  {
   "cell_type": "code",
   "execution_count": 107,
   "id": "492b6598",
   "metadata": {},
   "outputs": [
    {
     "name": "stdout",
     "output_type": "stream",
     "text": [
      "2023-05-11\n"
     ]
    }
   ],
   "source": [
    "date_obj += datetime.timedelta(days=1)\n",
    "print_date(date_obj)"
   ]
  },
  {
   "cell_type": "code",
   "execution_count": 115,
   "id": "9cae24c8",
   "metadata": {},
   "outputs": [
    {
     "name": "stdout",
     "output_type": "stream",
     "text": [
      "1\n",
      "1\n",
      "{}\n",
      "add Item rnum = 141\n",
      "temp = {'Butter': 0.0}\n",
      "getItemList base case\n",
      "{'Butter': 0.0}\n",
      "0\n",
      "{'Butter': 0.0}\n",
      "....{'Butter': 0.0}\n"
     ]
    }
   ],
   "source": [
    "#\n",
    "rnum = random.randrange(1,4)\n",
    "vendor_id = rnum\n",
    "\n",
    "col_2=vendor_id\n",
    "\n",
    "rnum = random.randrange(0,2)\n",
    "delivery_method = delivery_list[rnum]\n",
    "\n",
    "col_3=delivery_method\n",
    "\n",
    "rnum = random.randrange(1,4)#get items ordered\n",
    "print(rnum)\n",
    "\n",
    "menu_dict = getMenu(vendor_id) #get menu dictionary\n",
    "\n",
    "item_dict = {}\n",
    "item_dict = getItemList(menu_dict,rnum, item_dict)\n",
    "item_list = list(item_dict)\n",
    "item_csv = ','.join(item_list)\n",
    "col_4=item_list\n",
    "\n",
    "print(\"....\" + str(item_dict))\n",
    "col_5=date_obj\n",
    "\n",
    "\n",
    "rnum = random.randrange(0, len(tax_list))\n",
    "tax = tax_list[rnum]\n",
    "col_6= tax\n",
    "\n",
    "total =  getDictTotal(item_dict)* tax\n",
    "#round number to closest two decimal places\n",
    "total = round(total, 2)\n",
    "col_7=total\n",
    "\n",
    "col_8=country_code_iso3\n",
    "\n",
    "rnum= random.randrange(1,10001)\n",
    "customer_id = customer_id_list[rnum]\n",
    "\n",
    "col_9= customer_id"
   ]
  },
  {
   "cell_type": "code",
   "execution_count": 116,
   "id": "229cd9f6",
   "metadata": {},
   "outputs": [
    {
     "name": "stdout",
     "output_type": "stream",
     "text": [
      "1 pickup ['Butter'] 2023-05-11 00:00:00 0.029 0.0 USA 3169\n"
     ]
    }
   ],
   "source": [
    "column_values = f\"{col_2} {col_3} {col_4} {col_5} {col_6} {col_7} {col_8} {col_9}\"\n",
    "print(column_values)"
   ]
  },
  {
   "cell_type": "code",
   "execution_count": null,
   "id": "2de79e49",
   "metadata": {},
   "outputs": [],
   "source": [
    "query = \"\"\" INSERT INTO user_purchase \n",
    "(\"\"\"column_names\"\"\")\n",
    "VALUES\n",
    "()\n",
    "\"\"\"\n",
    "\n",
    "cursor.execute(\"SELECT * \")"
   ]
  }
 ],
 "metadata": {
  "kernelspec": {
   "display_name": "Python 3 (ipykernel)",
   "language": "python",
   "name": "python3"
  },
  "language_info": {
   "codemirror_mode": {
    "name": "ipython",
    "version": 3
   },
   "file_extension": ".py",
   "mimetype": "text/x-python",
   "name": "python",
   "nbconvert_exporter": "python",
   "pygments_lexer": "ipython3",
   "version": "3.9.13"
  }
 },
 "nbformat": 4,
 "nbformat_minor": 5
}
