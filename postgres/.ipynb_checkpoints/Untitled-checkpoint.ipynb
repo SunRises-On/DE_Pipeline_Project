{
 "cells": [
  {
   "cell_type": "code",
   "execution_count": 1,
   "id": "3408d2fd",
   "metadata": {},
   "outputs": [],
   "source": [
    "#Python imports\n",
    "import datetime\n",
    "# widely used PostgreSQL connector library\n",
    "import psycopg2\n",
    "#pip install psycopg2\n",
    "import random"
   ]
  },
  {
   "cell_type": "code",
   "execution_count": 2,
   "id": "1133d261",
   "metadata": {},
   "outputs": [],
   "source": [
    "from restaurant_menu import McDonald_menu, Wingstop_menu, Taco_bell_menu\n"
   ]
  },
  {
   "cell_type": "code",
   "execution_count": 3,
   "id": "9eb4afaf",
   "metadata": {},
   "outputs": [],
   "source": [
    "\n",
    "delivery_list = ['pickup', 'delivery']\n",
    "\n",
    "vendor_dict = { 1: McDonald_menu,\n",
    "             2: Wingstop_menu,\n",
    "             3: Taco_bell_menu,\n",
    "    \n",
    "}\n",
    "\n",
    "country_code_iso3 = 'USA'\n",
    "customer_id_list = list(range(1,10001))\n"
   ]
  },
  {
   "cell_type": "code",
   "execution_count": 4,
   "id": "68ebe572",
   "metadata": {},
   "outputs": [],
   "source": [
    "tax_list = [0,.029,.04,.04225,.0445,.045,.0475,.05,.053,.055,.056,.0575,.06,.061,.0625,.0635,.065,.06625,.0685,.06875,.07,.0725]"
   ]
  },
  {
   "cell_type": "code",
   "execution_count": 5,
   "id": "dcfa2b26",
   "metadata": {},
   "outputs": [],
   "source": [
    "#establish the connection\n",
    "conn = psycopg2.connect(\n",
    "    host=\"localhost\",\n",
    "    port='5432',\n",
    "    database=\"DE\",\n",
    "    user=\"postgres\", \n",
    "    password=\"password\")\n"
   ]
  },
  {
   "cell_type": "code",
   "execution_count": 6,
   "id": "ce9f6c5c",
   "metadata": {},
   "outputs": [],
   "source": [
    "#create a cursor object\n",
    "cursor = conn.cursor()"
   ]
  },
  {
   "cell_type": "code",
   "execution_count": 7,
   "id": "0d1c71a5",
   "metadata": {},
   "outputs": [],
   "source": [
    "cursor.execute(\"\"\"SELECT table_name FROM information_schema.tables\n",
    "       WHERE table_schema = 'public'\"\"\")"
   ]
  },
  {
   "cell_type": "code",
   "execution_count": 8,
   "id": "46921d86",
   "metadata": {},
   "outputs": [
    {
     "name": "stdout",
     "output_type": "stream",
     "text": [
      "('user_purchase',)\n"
     ]
    }
   ],
   "source": [
    "#check if table is in database\n",
    "for table in cursor.fetchall():\n",
    "    print(table)"
   ]
  },
  {
   "cell_type": "code",
   "execution_count": 9,
   "id": "1ed545ae",
   "metadata": {},
   "outputs": [],
   "source": [
    "column_names=\"vendor_id, delivery_method, menu_items, invoice_date, tax, total, country_code_iso3, customer_id\""
   ]
  },
  {
   "cell_type": "code",
   "execution_count": 20,
   "id": "692defb3",
   "metadata": {},
   "outputs": [],
   "source": [
    "def getMenu(vendor):\n",
    "    return vendor_dict[vendor]\n",
    "        "
   ]
  },
  {
   "cell_type": "code",
   "execution_count": 21,
   "id": "55119cd8",
   "metadata": {},
   "outputs": [],
   "source": [
    "def getDictTotal(item_dict):\n",
    "    values_list = item_dict.values()\n",
    "    return sum(values_list)"
   ]
  },
  {
   "cell_type": "code",
   "execution_count": 55,
   "id": "fcd5059d",
   "metadata": {},
   "outputs": [],
   "source": [
    "def checkKey(item_dict, key):\n",
    "    #check if empty\n",
    "    #empty dictionary are false \n",
    "    if (bool(item_dict) == False):\n",
    "        return False\n",
    "    elif key in item_dict.keys():\n",
    "        return True\n",
    "    else:\n",
    "        return False"
   ]
  },
  {
   "cell_type": "code",
   "execution_count": 71,
   "id": "4c983d52",
   "metadata": {},
   "outputs": [],
   "source": [
    "def addItem(item_dict, menu):\n",
    "    rnum = random.randrange(1,len(menu)+1)\n",
    "    key = list(menu)[rnum]\n",
    "    val = list(menu.values())[rnum]\n",
    "    temp = {key: val}\n",
    "    \n",
    "    #check if key already in item_dict\n",
    "    isDuplicate = checkKey(item_dict, key)\n",
    "    \n",
    "    #if duplicate \n",
    "    if(isDuplicate):\n",
    "        x = item_dict[key]\n",
    "        \n",
    "        #check number of duplicates\n",
    "        count = val%x\n",
    "        #round to nearest integer \n",
    "        count = round(count)\n",
    "        \n",
    "        #example new burger is now\n",
    "        # (1) Double Burger\n",
    "        key = f\"({count}) \" + key\n",
    "        \n",
    "        temp = {key:val}\n",
    "            \n",
    "        item_dict = item_dict.update(temp)\n",
    "    #not duplicate add new key-value pair\n",
    "    else:\n",
    "        #check if dict is empty\n",
    "        if( bool(item_dict) == False):\n",
    "            item_dict={key:val}\n",
    "        else:\n",
    "            item_dict = item_dict.update(temp)\n",
    "    \n",
    "    return item_dict"
   ]
  },
  {
   "cell_type": "code",
   "execution_count": 72,
   "id": "1b6a1656",
   "metadata": {},
   "outputs": [],
   "source": [
    "def getItemList(menu, rnum, item_dict ):\n",
    "    item_dict = item_dict\n",
    "    if(rnum > 0):\n",
    "        item_dict = addItem(item_dict, menu)\n",
    "        getItemList(menu, rnum-1, item_dict)\n",
    "    else:\n",
    "        return item_dict"
   ]
  },
  {
   "cell_type": "code",
   "execution_count": 73,
   "id": "65068749",
   "metadata": {},
   "outputs": [],
   "source": [
    "def print_date(date_obj):\n",
    "    date_format=\"%Y-%m-%d\"\n",
    "    print(date_obj.strftime(date_format))\n"
   ]
  },
  {
   "cell_type": "code",
   "execution_count": 74,
   "id": "37f6ec54",
   "metadata": {},
   "outputs": [],
   "source": [
    "def increment_date(date_obj):\n",
    "    date_obj += datetime.timedelta(days=1)\n",
    "    return date_obj"
   ]
  },
  {
   "cell_type": "code",
   "execution_count": 75,
   "id": "1b308481",
   "metadata": {},
   "outputs": [
    {
     "name": "stdout",
     "output_type": "stream",
     "text": [
      "2023-05-10\n"
     ]
    }
   ],
   "source": [
    "record_counter = 12000\n",
    "RECORD_NUM = 100\n",
    "date_obj = datetime.datetime(2023, 5, 10)\n",
    "print_date(date_obj)\n"
   ]
  },
  {
   "cell_type": "code",
   "execution_count": 76,
   "id": "39ddafba",
   "metadata": {},
   "outputs": [
    {
     "name": "stdout",
     "output_type": "stream",
     "text": [
      "2023-05-11\n"
     ]
    }
   ],
   "source": [
    "date_obj += datetime.timedelta(days=1)\n",
    "print_date(date_obj)"
   ]
  },
  {
   "cell_type": "code",
   "execution_count": 78,
   "id": "6920cfc9",
   "metadata": {},
   "outputs": [],
   "source": [
    "#\n",
    "rnum = random.randrange(1,4)\n",
    "vendor_id = rnum\n",
    "\n",
    "col_2=vendor_id\n",
    "\n",
    "rnum = random.randrange(0,2)\n",
    "delivery_method = delivery_list[rnum]\n",
    "\n",
    "col_3=delivery_method\n",
    "\n",
    "rnum = random.randrange(1,4)#get items ordered\n",
    "\n",
    "menu_dict = getMenu(vendor_id) #get menu dictionary\n",
    "\n",
    "item_dict = {}\n",
    "menu_items = getItemList(menu_dict,rnum, item_dict)\n",
    "col_4=menu_items\n",
    "\n",
    "\n",
    "col_5=date_obj\n",
    "\n",
    "\n",
    "rnum = random.randrange(0, len(tax_list))\n",
    "tax = tax_list[rnum]\n",
    "col_6= tax\n",
    "\n",
    "total =  getDictTotal(item_dict)* tax\n",
    "col_7=total\n",
    "\n",
    "col_8=country_code_iso3\n",
    "\n",
    "rnum= random.randrange(1,10001)\n",
    "customer_id = customer_id_list[rnum]\n",
    "\n",
    "col_9= customer_id"
   ]
  },
  {
   "cell_type": "code",
   "execution_count": null,
   "id": "7dc36f61",
   "metadata": {},
   "outputs": [],
   "source": [
    "column_values = f\"{} {} {} {} {} {} {} {} {col_9}\""
   ]
  },
  {
   "cell_type": "code",
   "execution_count": null,
   "id": "fc0ae02e",
   "metadata": {},
   "outputs": [],
   "source": [
    "query = \"\"\" INSERT INTO user_purchase \n",
    "(\"\"\"column_names\"\"\")\n",
    "VALUES\n",
    "()\n",
    "\"\"\"\n",
    "\n",
    "cursor.execute(\"SELECT * \")"
   ]
  }
 ],
 "metadata": {
  "kernelspec": {
   "display_name": "Python 3 (ipykernel)",
   "language": "python",
   "name": "python3"
  },
  "language_info": {
   "codemirror_mode": {
    "name": "ipython",
    "version": 3
   },
   "file_extension": ".py",
   "mimetype": "text/x-python",
   "name": "python",
   "nbconvert_exporter": "python",
   "pygments_lexer": "ipython3",
   "version": "3.9.13"
  }
 },
 "nbformat": 4,
 "nbformat_minor": 5
}
