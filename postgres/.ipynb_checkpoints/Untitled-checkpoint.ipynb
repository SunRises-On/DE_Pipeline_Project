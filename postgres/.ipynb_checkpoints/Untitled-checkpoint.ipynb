{
 "cells": [
  {
   "cell_type": "code",
   "execution_count": 1,
   "id": "94c26410",
   "metadata": {},
   "outputs": [],
   "source": [
    "#Python imports\n",
    "import datetime\n",
    "# widely used PostgreSQL connector library\n",
    "import psycopg2\n",
    "#pip install psycopg2\n",
    "import random\n",
    "from decimal import Decimal"
   ]
  },
  {
   "cell_type": "code",
   "execution_count": 2,
   "id": "c666051f",
   "metadata": {},
   "outputs": [],
   "source": [
    "from restaurant_menu import McDonald_menu, Wingstop_menu, Taco_bell_menu\n"
   ]
  },
  {
   "cell_type": "code",
   "execution_count": 3,
   "id": "c4636a96",
   "metadata": {},
   "outputs": [],
   "source": [
    "\n",
    "delivery_list = ['pickup', 'delivery']\n",
    "\n",
    "vendor_dict = { 1: McDonald_menu,\n",
    "             2: Wingstop_menu,\n",
    "             3: Taco_bell_menu,\n",
    "    \n",
    "}\n",
    "\n",
    "country_code_iso3 = 'USA'\n",
    "customer_id_list = list(range(1,10001))\n",
    "\n",
    "RECORDS = 12001\n",
    "REC_PER_DATE = 100"
   ]
  },
  {
   "cell_type": "code",
   "execution_count": 4,
   "id": "68ebe572",
   "metadata": {},
   "outputs": [],
   "source": [
    "tax_list = [0,.029,.04,.04225,.0445,.045,.0475,.05,.053,.055,.056,.0575,.06,.061,.0625,.0635,.065,.06625,.0685,.06875,.07,.0725]"
   ]
  },
  {
   "cell_type": "code",
   "execution_count": 5,
   "id": "867cdf5e",
   "metadata": {},
   "outputs": [],
   "source": [
    "#establish the connection\n",
    "conn = psycopg2.connect(\n",
    "    host=\"localhost\",\n",
    "    port='5432',\n",
    "    database=\"DE\",\n",
    "    user=\"postgres\", \n",
    "    password=\"password\")\n"
   ]
  },
  {
   "cell_type": "code",
   "execution_count": null,
   "id": "a09db1d5",
   "metadata": {},
   "outputs": [],
   "source": [
    "#set auto commit \n",
    "conn.autocommit = True"
   ]
  },
  {
   "cell_type": "code",
   "execution_count": 6,
   "id": "7ff7b81b",
   "metadata": {},
   "outputs": [],
   "source": [
    "#create a cursor object\n",
    "cur = conn.cursor()"
   ]
  },
  {
   "cell_type": "code",
   "execution_count": 7,
   "id": "257ba5f1",
   "metadata": {},
   "outputs": [],
   "source": [
    "cur.execute(\"\"\"SELECT table_name FROM information_schema.tables\n",
    "       WHERE table_schema = 'public'\"\"\")"
   ]
  },
  {
   "cell_type": "code",
   "execution_count": 8,
   "id": "0f3f008e",
   "metadata": {},
   "outputs": [
    {
     "name": "stdout",
     "output_type": "stream",
     "text": [
      "('user_purchase',)\n"
     ]
    }
   ],
   "source": [
    "#check if table is in database\n",
    "for table in cur.fetchall():\n",
    "    print(table)"
   ]
  },
  {
   "cell_type": "code",
   "execution_count": 9,
   "id": "54f968d9",
   "metadata": {},
   "outputs": [],
   "source": [
    "column_names=\"vendor_id, delivery_method, menu_items, invoice_date, tax, total, country_code_iso3, customer_id\""
   ]
  },
  {
   "cell_type": "code",
   "execution_count": 10,
   "id": "4f0db57e",
   "metadata": {},
   "outputs": [],
   "source": [
    "def getMenu(vendor):\n",
    "    return vendor_dict[vendor]\n",
    "        "
   ]
  },
  {
   "cell_type": "code",
   "execution_count": 11,
   "id": "9005c50c",
   "metadata": {},
   "outputs": [],
   "source": [
    "#Get the total from the dictionary values\n",
    "#Since we need precision use Decimal\n",
    "def getDictTotal(item_dict):\n",
    "    values_list = item_dict.values()\n",
    "    total = Decimal(0)\n",
    "    for value in values_list:\n",
    "        num = Decimal(value)\n",
    "        total += num\n",
    "    print(f\"total = {total}\")\n",
    "    return total"
   ]
  },
  {
   "cell_type": "code",
   "execution_count": 12,
   "id": "296bd43d",
   "metadata": {},
   "outputs": [],
   "source": [
    "def checkKey(item_dict, key):\n",
    "    #check if empty\n",
    "    #empty dictionary are false \n",
    "    if (bool(item_dict) == False):\n",
    "        return False\n",
    "    elif key in item_dict.keys():\n",
    "        return True\n",
    "    else:\n",
    "        return False"
   ]
  },
  {
   "cell_type": "code",
   "execution_count": 13,
   "id": "8984bdd7",
   "metadata": {},
   "outputs": [],
   "source": [
    "def addItem(item_dict, menu):\n",
    "    rnum = random.randrange(0,len(menu))\n",
    "    key = list(menu)[rnum]\n",
    "    val = list(menu.values())[rnum]\n",
    "    temp = {key: val}\n",
    "    #check if key already in item_dict\n",
    "    isDuplicate = checkKey(item_dict, key)\n",
    "    \n",
    "    #if duplicate \n",
    "    if(isDuplicate):\n",
    "        x = item_dict[key]\n",
    "        \n",
    "        #check number of duplicates\n",
    "        count = val%x\n",
    "        #round to nearest integer \n",
    "        count = round(count)\n",
    "        \n",
    "        #example new burger is now\n",
    "        # (1) Double Burger\n",
    "        key = f\"({count}) \" + key\n",
    "        \n",
    "        temp = {key:val}\n",
    "            \n",
    "        item_dict = item_dict.update(temp)\n",
    "    #not duplicate add new key-value pair\n",
    "    else:\n",
    "        item_dict[key]=val\n",
    "        \n",
    "    \n",
    "    return item_dict"
   ]
  },
  {
   "cell_type": "code",
   "execution_count": 14,
   "id": "4cda3ea5",
   "metadata": {},
   "outputs": [],
   "source": [
    "def getItemList(menu, rnum, item_dict ):\n",
    "    item_dict = item_dict\n",
    "    if(rnum > 0):\n",
    "        item_dict = addItem(item_dict, menu)\n",
    "        getItemList(menu, rnum-1, item_dict)\n",
    "    return item_dict"
   ]
  },
  {
   "cell_type": "code",
   "execution_count": 15,
   "id": "9eba85f6",
   "metadata": {},
   "outputs": [],
   "source": [
    "def print_date(date_obj):\n",
    "    date_format=\"%Y-%m-%d\"\n",
    "    print(date_obj.strftime(date_format))\n"
   ]
  },
  {
   "cell_type": "code",
   "execution_count": 16,
   "id": "8094564f",
   "metadata": {},
   "outputs": [],
   "source": [
    "def increment_date(date_obj):\n",
    "    date_obj += datetime.timedelta(days=1)\n",
    "    return date_obj"
   ]
  },
  {
   "cell_type": "code",
   "execution_count": 17,
   "id": "0dff6c47",
   "metadata": {},
   "outputs": [],
   "source": [
    "def create_date_obj(year, month, day):\n",
    "    date_obj = datetime.datetime(year, month, day)\n",
    "    return date_obj"
   ]
  },
  {
   "cell_type": "code",
   "execution_count": 18,
   "id": "a0e1205f",
   "metadata": {},
   "outputs": [],
   "source": [
    "def get_col_2(start, end):\n",
    "    rnum = random.randrange(start, end)\n",
    "    return rnum"
   ]
  },
  {
   "cell_type": "code",
   "execution_count": 19,
   "id": "7f60d99e",
   "metadata": {},
   "outputs": [],
   "source": [
    "def get_col_3(start, end):\n",
    "    rnum = random.randrange(0,2)\n",
    "    delivery_method = delivery_list[rnum]\n",
    "    return delivery_method"
   ]
  },
  {
   "cell_type": "code",
   "execution_count": 20,
   "id": "1c183105",
   "metadata": {},
   "outputs": [],
   "source": [
    "#get number of items ordered from 1 - end\n",
    "def get_items_ordered(start, end):\n",
    "    rnum = random.randrange(start, end)\n",
    "    return rnum"
   ]
  },
  {
   "cell_type": "code",
   "execution_count": 21,
   "id": "8b9d6d23",
   "metadata": {},
   "outputs": [],
   "source": [
    "def get_csv_from_dict(dictionary):\n",
    "    new_list = list(dictionary)\n",
    "    new_csv = '|'.join(new_list)\n",
    "    return new_csv"
   ]
  },
  {
   "cell_type": "code",
   "execution_count": 22,
   "id": "e3dbd20b",
   "metadata": {},
   "outputs": [],
   "source": [
    "def get_customer_id(rnum):\n",
    "    customer_id = customer_id_list[rnum]\n",
    "    return customer_id"
   ]
  },
  {
   "cell_type": "code",
   "execution_count": 23,
   "id": "d10b49f5",
   "metadata": {},
   "outputs": [],
   "source": [
    "def get_col_9(start, end):\n",
    "    rnum= random.randrange(start,end)\n",
    "    customer_id = get_customer_id(rnum)\n",
    "    return customer_id"
   ]
  },
  {
   "cell_type": "code",
   "execution_count": 24,
   "id": "d622b032",
   "metadata": {},
   "outputs": [],
   "source": [
    "def get_item_dict(vendor_id, start,end):\n",
    "    \n",
    "    items_ordered = get_items_ordered(start, end)\n",
    "    menu_dict = getMenu(vendor_id) #get menu dictionary\n",
    "\n",
    "    item_dict={}\n",
    "    item_dict = getItemList(menu_dict,items_ordered, item_dict)\n",
    "    \n",
    "    return item_dict\n"
   ]
  },
  {
   "cell_type": "code",
   "execution_count": 25,
   "id": "47ad33bc",
   "metadata": {},
   "outputs": [],
   "source": [
    "def get_col_6():\n",
    "    rnum = random.randrange(0, len(tax_list))\n",
    "    tax = tax_list[rnum]\n",
    "    return tax"
   ]
  },
  {
   "cell_type": "code",
   "execution_count": 26,
   "id": "868a8e2f",
   "metadata": {},
   "outputs": [],
   "source": [
    "def get_col_7(item_dict, tax):\n",
    "    item_total = getDictTotal(item_dict)\n",
    "    item_total = round(item_total, 2)\n",
    "\n",
    "    #convert to decimal\n",
    "    tax = Decimal(tax)\n",
    "    item_tax =  item_total* tax\n",
    "    #round number to closest two decimal places\n",
    "    item_tax = round(item_tax,2)\n",
    "\n",
    "    total = item_total + item_tax\n",
    "    return total"
   ]
  },
  {
   "cell_type": "code",
   "execution_count": 27,
   "id": "826cbf89",
   "metadata": {},
   "outputs": [
    {
     "name": "stdout",
     "output_type": "stream",
     "text": [
      "total = 17.07999999999999990452081989\n",
      "1 delivery Double Quarter Cheese Deluxe Meal|20 Pieces McNuggets|Syrup 2023-01-01 00:00:00 0.053 17.99 USA 4320\n"
     ]
    }
   ],
   "source": [
    "\n",
    "    \n",
    "\n",
    "date_obj = create_date_obj(2023,1,1)\n",
    "\n",
    "for i in range(1,RECORDS):\n",
    "    \n",
    "    if((i%REC_PER_DATE) == 0):\n",
    "        date_obj = increment_date(date_obj)\n",
    "\n",
    "    vendor_id = get_col_2(1,4)\n",
    "    col_2=vendor_id\n",
    "    \n",
    "    delivery_method = get_col_3(0,2)\n",
    "    col_3=delivery_method\n",
    "        \n",
    "    \n",
    "    item_dict = get_item_dict(vendor_id, 1,4)\n",
    "    item_csv = get_csv_from_dict(item_dict)\n",
    "    col_4=item_csv\n",
    "    \n",
    "    col_5=date_obj\n",
    "\n",
    "    tax = get_col_6()\n",
    "    col_6= tax\n",
    "    \n",
    "    \n",
    "    total =get_col_7(item_dict, tax)\n",
    "    col_7=total\n",
    "    \n",
    "    col_8=country_code_iso3\n",
    "\n",
    "    customer_id = get_col_9(1, 10001)\n",
    "    col_9= customer_id\n",
    "    \n",
    "    column_values = f\"{col_2} {col_3} {col_4} {col_5} {col_6} {col_7} {col_8} {col_9}\"\n",
    "    print(column_values)\n",
    "    \n",
    "    #insert()\n",
    "    \n",
    "    break"
   ]
  },
  {
   "cell_type": "code",
   "execution_count": 28,
   "id": "850e0ca4",
   "metadata": {},
   "outputs": [
    {
     "name": "stdout",
     "output_type": "stream",
     "text": [
      " 1 , 'delivery' , 'Double Quarter Cheese Deluxe Meal|20 Pieces McNuggets|Syrup' ,'2023-01-01 00:00:00' ,0.053 ,17.99 ,'USA', 4320\n"
     ]
    }
   ],
   "source": [
    "column_values = f\" {col_2} , '{col_3}' , '{col_4}' ,'{col_5}' ,{col_6} ,{col_7} ,'{col_8}', {col_9}\"\n",
    "\n",
    "print(column_values)"
   ]
  },
  {
   "cell_type": "code",
   "execution_count": 29,
   "id": "907ccd08",
   "metadata": {},
   "outputs": [
    {
     "name": "stdout",
     "output_type": "stream",
     "text": [
      "None\n"
     ]
    }
   ],
   "source": [
    "\n",
    "query = f\"\"\"INSERT INTO user_purchase\n",
    "({column_names})\n",
    "VALUES\n",
    "({column_values});\n",
    "\"\"\"\n",
    "\n",
    "#execute the INSERT statement\n",
    "cur.execute(query)\n",
    "\n",
    "#fetch result \n",
    "result = cur.fetchone()\n",
    "print(result)"
   ]
  },
  {
   "cell_type": "code",
   "execution_count": 31,
   "id": "968e2f6a",
   "metadata": {},
   "outputs": [],
   "source": [
    "#get last row of user_purchase\n",
    "query = \"\"\"SELECT * FROM user_purchase\n",
    "WHERE invoice_number=(SELECT max(invoice_number) FROM user_purchase);\n",
    "\"\"\"\n",
    "cur.execute(query)\n",
    "result = cur.fetchone()"
   ]
  },
  {
   "cell_type": "code",
   "execution_count": null,
   "id": "dc64157f",
   "metadata": {},
   "outputs": [],
   "source": [
    "query"
   ]
  },
  {
   "cell_type": "code",
   "execution_count": null,
   "id": "343f8912",
   "metadata": {},
   "outputs": [],
   "source": [
    "query = \"\"\"SELECT * FROM user_purchase;\"\"\"\n",
    "cur.execute(query)"
   ]
  },
  {
   "cell_type": "code",
   "execution_count": null,
   "id": "ca04b5a2",
   "metadata": {},
   "outputs": [],
   "source": []
  },
  {
   "cell_type": "code",
   "execution_count": null,
   "id": "c7ef0ab3",
   "metadata": {},
   "outputs": [],
   "source": []
  }
 ],
 "metadata": {
  "kernelspec": {
   "display_name": "Python 3 (ipykernel)",
   "language": "python",
   "name": "python3"
  },
  "language_info": {
   "codemirror_mode": {
    "name": "ipython",
    "version": 3
   },
   "file_extension": ".py",
   "mimetype": "text/x-python",
   "name": "python",
   "nbconvert_exporter": "python",
   "pygments_lexer": "ipython3",
   "version": "3.9.13"
  }
 },
 "nbformat": 4,
 "nbformat_minor": 5
}
