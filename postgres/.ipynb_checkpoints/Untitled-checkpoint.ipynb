{
 "cells": [
  {
   "cell_type": "code",
   "execution_count": 1,
   "id": "c9e90f4c",
   "metadata": {},
   "outputs": [],
   "source": [
    "#Python imports\n",
    "import datetime\n",
    "# widely used PostgreSQL connector library\n",
    "import psycopg2\n",
    "#pip install psycopg2\n",
    "import random"
   ]
  },
  {
   "cell_type": "code",
   "execution_count": 5,
   "id": "74d5db53",
   "metadata": {},
   "outputs": [],
   "source": [
    "from restaurant_menu import McDonald_menu, Wingstop_menu, Taco_bell_menu\n"
   ]
  },
  {
   "cell_type": "code",
   "execution_count": 6,
   "id": "6e8c9342",
   "metadata": {},
   "outputs": [],
   "source": [
    "\n",
    "delivery_list = ['pickup', 'delivery']\n",
    "\n",
    "vendor_dict = { 1: McDonald_menu,\n",
    "             2: Wingstop_menu,\n",
    "             3: Taco_bell_menu,\n",
    "    \n",
    "}\n",
    "\n",
    "country_code_iso3 = 'USA'\n",
    "customer_id_list = list(range(1,10001))\n"
   ]
  },
  {
   "cell_type": "code",
   "execution_count": 7,
   "id": "68ebe572",
   "metadata": {},
   "outputs": [],
   "source": [
    "tax_list = [0,.029,.04,.04225,.0445,.045,.0475,.05,.053,.055,.056,.0575,.06,.061,.0625,.0635,.065,.06625,.0685,.06875,.07,.0725]"
   ]
  },
  {
   "cell_type": "code",
   "execution_count": 8,
   "id": "f5740917",
   "metadata": {},
   "outputs": [],
   "source": [
    "#establish the connection\n",
    "conn = psycopg2.connect(\n",
    "    host=\"localhost\",\n",
    "    port='5432',\n",
    "    database=\"DE\",\n",
    "    user=\"postgres\", \n",
    "    password=\"password\")\n"
   ]
  },
  {
   "cell_type": "code",
   "execution_count": 9,
   "id": "959f3607",
   "metadata": {},
   "outputs": [],
   "source": [
    "#create a cursor object\n",
    "cursor = conn.cursor()"
   ]
  },
  {
   "cell_type": "code",
   "execution_count": 10,
   "id": "e263e4f7",
   "metadata": {},
   "outputs": [],
   "source": [
    "cursor.execute(\"\"\"SELECT table_name FROM information_schema.tables\n",
    "       WHERE table_schema = 'public'\"\"\")"
   ]
  },
  {
   "cell_type": "code",
   "execution_count": 11,
   "id": "f774ed56",
   "metadata": {},
   "outputs": [
    {
     "name": "stdout",
     "output_type": "stream",
     "text": [
      "('user_purchase',)\n"
     ]
    }
   ],
   "source": [
    "#check if table is in database\n",
    "for table in cursor.fetchall():\n",
    "    print(table)"
   ]
  },
  {
   "cell_type": "code",
   "execution_count": 12,
   "id": "5d5bade8",
   "metadata": {},
   "outputs": [],
   "source": [
    "column_names=\"vendor_id, delivery_method, menu_items, invoice_date, tax, total, country_code_iso3, customer_id\""
   ]
  },
  {
   "cell_type": "code",
   "execution_count": 20,
   "id": "64dd2b27",
   "metadata": {},
   "outputs": [],
   "source": [
    "def getMenu(vendor):\n",
    "    return vendor_dict(vendor)\n",
    "        "
   ]
  },
  {
   "cell_type": "code",
   "execution_count": 21,
   "id": "3579b873",
   "metadata": {},
   "outputs": [
    {
     "ename": "SyntaxError",
     "evalue": "invalid syntax (3729502314.py, line 1)",
     "output_type": "error",
     "traceback": [
      "\u001b[1;36m  File \u001b[1;32m\"C:\\Users\\jewel\\AppData\\Local\\Temp\\ipykernel_600\\3729502314.py\"\u001b[1;36m, line \u001b[1;32m1\u001b[0m\n\u001b[1;33m    def getTotal(dict menu,  )\u001b[0m\n\u001b[1;37m                      ^\u001b[0m\n\u001b[1;31mSyntaxError\u001b[0m\u001b[1;31m:\u001b[0m invalid syntax\n"
     ]
    }
   ],
   "source": [
    "def getItemList(menu, rnum, menu_items )\n",
    "    menu_items = menu_items\n",
    "    if(rnum > 0):\n",
    "        \n",
    "    else:\n",
    "        return menu_items"
   ]
  },
  {
   "cell_type": "code",
   "execution_count": 22,
   "id": "59e43ff2",
   "metadata": {},
   "outputs": [],
   "source": [
    "def print_date(date_obj):\n",
    "    date_format=\"%Y-%m-%d\"\n",
    "    print(date_obj.strftime(date_format))\n"
   ]
  },
  {
   "cell_type": "code",
   "execution_count": 24,
   "id": "2d3db5e0",
   "metadata": {},
   "outputs": [],
   "source": [
    "def increment_date(date_obj):\n",
    "    date_obj += datetime.timedelta(days=1)\n",
    "    return date_obj"
   ]
  },
  {
   "cell_type": "code",
   "execution_count": 25,
   "id": "dd8d0cda",
   "metadata": {},
   "outputs": [
    {
     "name": "stdout",
     "output_type": "stream",
     "text": [
      "2023-05-10\n"
     ]
    }
   ],
   "source": [
    "record_counter = 12000\n",
    "RECORD_NUM = 100\n",
    "date_obj = datetime.datetime(2023, 5, 10)\n",
    "print_date(date_obj)\n"
   ]
  },
  {
   "cell_type": "code",
   "execution_count": 26,
   "id": "523690cf",
   "metadata": {},
   "outputs": [
    {
     "name": "stdout",
     "output_type": "stream",
     "text": [
      "2023-05-11\n"
     ]
    }
   ],
   "source": [
    "date_obj += datetime.timedelta(days=1)\n",
    "print_date(date_obj)"
   ]
  },
  {
   "cell_type": "code",
   "execution_count": null,
   "id": "b2867e24",
   "metadata": {},
   "outputs": [],
   "source": [
    "#\n",
    "rnum = random.randrange(1,4)\n",
    "vendor_id = rnum\n",
    "\n",
    "col_2=vendor_id\n",
    "\n",
    "rnum = random.randrange(1,3)\n",
    "delivery_method = delivery_list[rnum]\n",
    "\n",
    "col_3=delivery_method\n",
    "\n",
    "rnum = random.randrange(1,4)#get items ordered\n",
    "\n",
    "menu_dict = getMenu(vendor_id) #get menu dictionary\n",
    "\n",
    "\n",
    "menu_items = getItemList(menu_dict,rnum, menu_items=[])\n",
    "col_4=#menu_items\n",
    "\n",
    "\n",
    "col_5=date_obj\n",
    "\n",
    "\n",
    "rnum = random.randrange(1, len(tax_list)+1)\n",
    "tax = tax_list(rnum)\n",
    "col_6= tax\n",
    "\n",
    "col_7=#total\n",
    "\n",
    "col_8=country_code_iso3\n",
    "\n",
    "rnum= random.randrange(1,10001)\n",
    "customer_id = customer_id_list(rnum)\n",
    "\n",
    "col_9= customer_id"
   ]
  },
  {
   "cell_type": "code",
   "execution_count": null,
   "id": "b80ba0ea",
   "metadata": {},
   "outputs": [],
   "source": [
    "query = \"\"\" INSERT INTO user_purchase \n",
    "(\"\"\"column_names\"\"\")\n",
    "VALUES\n",
    "()\n",
    "\"\"\"\n",
    "\n",
    "cursor.execute(\"SELECT * \")"
   ]
  }
 ],
 "metadata": {
  "kernelspec": {
   "display_name": "Python 3 (ipykernel)",
   "language": "python",
   "name": "python3"
  },
  "language_info": {
   "codemirror_mode": {
    "name": "ipython",
    "version": 3
   },
   "file_extension": ".py",
   "mimetype": "text/x-python",
   "name": "python",
   "nbconvert_exporter": "python",
   "pygments_lexer": "ipython3",
   "version": "3.9.13"
  }
 },
 "nbformat": 4,
 "nbformat_minor": 5
}
