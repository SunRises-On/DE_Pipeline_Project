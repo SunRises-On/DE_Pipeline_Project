{
 "cells": [
  {
   "cell_type": "code",
   "execution_count": null,
   "id": "1c0b52df",
   "metadata": {},
   "outputs": [],
   "source": [
    "#Python imports\n",
    "import datetime\n",
    "# widely used PostgreSQL connector library\n",
    "import psycopg2\n",
    "#pip install psycopg2\n",
    "import random"
   ]
  },
  {
   "cell_type": "code",
   "execution_count": null,
   "id": "343bfa44",
   "metadata": {},
   "outputs": [],
   "source": [
    "import restaurant_menu"
   ]
  },
  {
   "cell_type": "code",
   "execution_count": 17,
   "id": "41a46a44",
   "metadata": {},
   "outputs": [],
   "source": [
    "\n",
    "delivery_list = ['pickup', 'delivery']\n",
    "\n",
    "vendor_dict = { 1: McDonald_menu,\n",
    "             2: Wingstop_menu,\n",
    "             3: Taco_bell_menu,\n",
    "    \n",
    "}\n",
    "\n",
    "country_code_iso3 = 'USA'\n",
    "customer_id_list = list(range(1,10001))\n",
    "\n",
    "\n"
   ]
  },
  {
   "cell_type": "code",
   "execution_count": 8,
   "id": "68ebe572",
   "metadata": {},
   "outputs": [],
   "source": [
    "tax_list = [0,.029,.04,.04225,.0445,.045,.0475,.05,.053,.055,.056,.0575,.06,.061,.0625,.0635,.065,.06625,.0685,.06875,.07,.0725]"
   ]
  },
  {
   "cell_type": "code",
   "execution_count": 12,
   "id": "342a284b",
   "metadata": {},
   "outputs": [],
   "source": [
    "#establish the connection\n",
    "conn = psycopg2.connect(\n",
    "    host=\"localhost\",\n",
    "    port='5432',\n",
    "    database=\"DE\",\n",
    "    user=\"postgres\", \n",
    "    password=\"password\")\n"
   ]
  },
  {
   "cell_type": "code",
   "execution_count": 13,
   "id": "f005656a",
   "metadata": {},
   "outputs": [],
   "source": [
    "#create a cursor object\n",
    "cursor = conn.cursor()"
   ]
  },
  {
   "cell_type": "code",
   "execution_count": 14,
   "id": "51e2e162",
   "metadata": {},
   "outputs": [],
   "source": [
    "cursor.execute(\"\"\"SELECT table_name FROM information_schema.tables\n",
    "       WHERE table_schema = 'public'\"\"\")"
   ]
  },
  {
   "cell_type": "code",
   "execution_count": 15,
   "id": "6c2ddc01",
   "metadata": {},
   "outputs": [
    {
     "name": "stdout",
     "output_type": "stream",
     "text": [
      "('user_purchase',)\n"
     ]
    }
   ],
   "source": [
    "#check if table is in database\n",
    "for table in cursor.fetchall():\n",
    "    print(table)"
   ]
  },
  {
   "cell_type": "code",
   "execution_count": null,
   "id": "9359dcd9",
   "metadata": {},
   "outputs": [],
   "source": [
    "cursor.execute(\"SELECT * \")"
   ]
  },
  {
   "cell_type": "code",
   "execution_count": 16,
   "id": "97ff29b4",
   "metadata": {},
   "outputs": [],
   "source": [
    "column_names=\"vendor_id, delivery_method, menu_items, invoice_date, tax, total, country_code_iso3, customer_id\""
   ]
  },
  {
   "cell_type": "code",
   "execution_count": null,
   "id": "b0e6ae0b",
   "metadata": {},
   "outputs": [],
   "source": [
    "def getMenuLen(int vendor):\n",
    "    if(vendor == 1):\n",
    "        return len(McDonald_menu)\n",
    "    else if(vendor == 2):\n",
    "        return len(Wingstop_menu)\n",
    "    else if(vendor ==3):\n",
    "        return len(Taco_bell_menu)\n",
    "    else:\n",
    "        raise Exception(\"Vendor id isn't correct.\")"
   ]
  },
  {
   "cell_type": "code",
   "execution_count": null,
   "id": "a949a071",
   "metadata": {},
   "outputs": [],
   "source": [
    "def getMenu(int vendor):\n",
    "    return vendor_dict(vendor)\n",
    "        "
   ]
  },
  {
   "cell_type": "code",
   "execution_count": null,
   "id": "c9964264",
   "metadata": {},
   "outputs": [],
   "source": [
    "def getTotal(dict menu,  )"
   ]
  },
  {
   "cell_type": "code",
   "execution_count": 20,
   "id": "8d03c809",
   "metadata": {},
   "outputs": [],
   "source": [
    "def print_date(date_obj):\n",
    "    date_format=\"%Y-%m-%d\"\n",
    "    print(date_obj.strftime(date_format))\n"
   ]
  },
  {
   "cell_type": "code",
   "execution_count": null,
   "id": "a8482e75",
   "metadata": {},
   "outputs": [],
   "source": [
    "def increment_date(date_obj):\n",
    "    return date_obj += datetime.timedelta(days=1)"
   ]
  },
  {
   "cell_type": "code",
   "execution_count": 21,
   "id": "af09ce3c",
   "metadata": {},
   "outputs": [
    {
     "name": "stdout",
     "output_type": "stream",
     "text": [
      "2023-05-10\n"
     ]
    }
   ],
   "source": [
    "record_counter = 12000\n",
    "RECORD_NUM = 100\n",
    "date_obj = datetime.datetime(2023, 5, 10)\n",
    "print_date(date_obj)\n"
   ]
  },
  {
   "cell_type": "code",
   "execution_count": 22,
   "id": "6570a929",
   "metadata": {},
   "outputs": [
    {
     "name": "stdout",
     "output_type": "stream",
     "text": [
      "2023-05-11\n"
     ]
    }
   ],
   "source": [
    "date_obj += datetime.timedelta(days=1)\n",
    "print_date(date_obj)"
   ]
  },
  {
   "cell_type": "code",
   "execution_count": null,
   "id": "6b65618b",
   "metadata": {},
   "outputs": [],
   "source": [
    "#\n",
    "rnum = random.randrange(1,4)\n",
    "vendor_id = rnum\n",
    "\n",
    "col_2=vendor_id\n",
    "\n",
    "rnum = random.randrange(1,3)\n",
    "delivery_method = delivery_list[rnum]\n",
    "\n",
    "col_3=delivery_method\n",
    "\n",
    "rnum = random.randrange(1,4)#get items ordered\n",
    "items_ordered = rnum\n",
    "\n",
    "menu_len = getLength(vendor_id) #get length needed\n",
    "menu_dict = getMenu(vendor_id) #get menu dictionary\n",
    "\n",
    "col_4=#menu_items\n",
    "\n",
    "\n",
    "col_5=date_obj\n",
    "\n",
    "\n",
    "rnum = random.randrange(1, len(tax_list)+1)\n",
    "tax = tax_list(rnum)\n",
    "col_6= tax\n",
    "\n",
    "col_7=#total\n",
    "\n",
    "col_8=country_code_iso3\n",
    "\n",
    "rnum= random.randrange(1,10001)\n",
    "customer_id = customer_id_list(rnum)\n",
    "\n",
    "col_9= customer_id"
   ]
  },
  {
   "cell_type": "code",
   "execution_count": null,
   "id": "76344fd6",
   "metadata": {},
   "outputs": [],
   "source": [
    "query = \"\"\" INSERT INTO user_purchase \n",
    "(\"\"\"column_names\"\"\")\n",
    "VALUES\n",
    "()\n",
    "\"\"\""
   ]
  }
 ],
 "metadata": {
  "kernelspec": {
   "display_name": "Python 3 (ipykernel)",
   "language": "python",
   "name": "python3"
  },
  "language_info": {
   "codemirror_mode": {
    "name": "ipython",
    "version": 3
   },
   "file_extension": ".py",
   "mimetype": "text/x-python",
   "name": "python",
   "nbconvert_exporter": "python",
   "pygments_lexer": "ipython3",
   "version": "3.9.13"
  }
 },
 "nbformat": 4,
 "nbformat_minor": 5
}
